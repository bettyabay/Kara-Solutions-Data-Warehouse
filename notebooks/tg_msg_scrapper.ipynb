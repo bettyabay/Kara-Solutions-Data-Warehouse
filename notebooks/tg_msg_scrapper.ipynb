{
 "cells": [
  {
   "cell_type": "code",
   "execution_count": 1,
   "metadata": {},
   "outputs": [],
   "source": [
    "# Apply nest_asyncio\n",
    "import nest_asyncio\n",
    "nest_asyncio.apply() "
   ]
  },
  {
   "cell_type": "code",
   "execution_count": 2,
   "metadata": {},
   "outputs": [
    {
     "name": "stdout",
     "output_type": "stream",
     "text": [
      "Libraries imported successfully!\n"
     ]
    }
   ],
   "source": [
    "#  Import required libraries\n",
    "import os\n",
    "import logging\n",
    "import pandas as pd\n",
    "import re\n",
    "from dotenv import load_dotenv\n",
    "from telethon.sync import TelegramClient\n",
    "\n",
    "print(\"Libraries imported successfully!\")"
   ]
  },
  {
   "cell_type": "code",
   "execution_count": 3,
   "metadata": {},
   "outputs": [
    {
     "name": "stdout",
     "output_type": "stream",
     "text": [
      "✅ Environment variables loaded successfully!\n"
     ]
    }
   ],
   "source": [
    "#  Load environment variables\n",
    "load_dotenv()\n",
    "\n",
    "api_id = os.getenv(\"TELEGRAM_API_ID\")\n",
    "api_hash = os.getenv(\"TELEGRAM_API_HASH\")\n",
    "phone_number = os.getenv(\"TELEGRAM_PHONE_NUMBER\")\n",
    "\n",
    "if api_id and api_hash and phone_number:\n",
    "    print(\"✅ Environment variables loaded successfully!\")\n",
    "else:\n",
    "    print(\"⚠️ Warning: Missing environment variables. Check your .env file.\")"
   ]
  },
  {
   "cell_type": "code",
   "execution_count": 4,
   "metadata": {},
   "outputs": [
    {
     "name": "stdout",
     "output_type": "stream",
     "text": [
      "📂 Log directory: logs\n",
      "📂 Messages storage: scraped_messages.csv\n"
     ]
    }
   ],
   "source": [
    "# Set up logging and storage paths\n",
    "CURRENT_DIR = os.path.abspath(os.getcwd())\n",
    "PROJECT_ROOT = os.path.dirname(CURRENT_DIR)\n",
    "\n",
    "log_dir = os.path.join(PROJECT_ROOT, \"logs\")\n",
    "os.makedirs(log_dir, exist_ok=True)\n",
    "log_storage= os.path.join(\"logs\")\n",
    "\n",
    "log_file = os.path.join(log_dir, \"scraping.log\")\n",
    "logging.basicConfig(filename=log_file, level=logging.INFO, format=\"%(asctime)s - %(levelname)s - %(message)s\")\n",
    "\n",
    "TEXT_DATA_DIR = os.path.join(PROJECT_ROOT, \"data\", \"messages\")\n",
    "os.makedirs(TEXT_DATA_DIR, exist_ok=True)\n",
    "text_data_path = os.path.join(TEXT_DATA_DIR, \"scraped_messages.csv\")\n",
    "text_storage= os.path.join(\"scraped_messages.csv\")\n",
    "\n",
    "if not os.path.exists(text_data_path):\n",
    "    pd.DataFrame(columns=[\"channel_name\",\"channel_title\", \"date\", \"text\"]).to_csv(text_data_path, index=False)\n",
    "\n",
    "print(f\"📂 Log directory: {log_storage}\")\n",
    "print(f\"📂 Messages storage: {text_storage}\")"
   ]
  },
  {
   "cell_type": "code",
   "execution_count": 5,
   "metadata": {},
   "outputs": [
    {
     "name": "stdout",
     "output_type": "stream",
     "text": [
      "🚀 Telegram client initialized!\n"
     ]
    }
   ],
   "source": [
    "\n",
    "# Initialize Telegram client\n",
    "client = TelegramClient(\"session_name\", api_id, api_hash)\n",
    "print(\"🚀 Telegram client initialized!\")"
   ]
  }
 ],
 "metadata": {
  "kernelspec": {
   "display_name": ".myenv7",
   "language": "python",
   "name": "python3"
  },
  "language_info": {
   "codemirror_mode": {
    "name": "ipython",
    "version": 3
   },
   "file_extension": ".py",
   "mimetype": "text/x-python",
   "name": "python",
   "nbconvert_exporter": "python",
   "pygments_lexer": "ipython3",
   "version": "3.10.0"
  }
 },
 "nbformat": 4,
 "nbformat_minor": 2
}
